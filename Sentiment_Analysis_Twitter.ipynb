{
  "nbformat": 4,
  "nbformat_minor": 0,
  "metadata": {
    "colab": {
      "provenance": []
    },
    "kernelspec": {
      "name": "python3",
      "display_name": "Python 3"
    },
    "language_info": {
      "name": "python"
    }
  },
  "cells": [
    {
      "cell_type": "code",
      "execution_count": null,
      "metadata": {
        "colab": {
          "base_uri": "https://localhost:8080/"
        },
        "id": "ip2L2j2DcR1a",
        "outputId": "f8e4b403-61bc-4a24-db88-f1dab00612d7"
      },
      "outputs": [
        {
          "output_type": "stream",
          "name": "stdout",
          "text": [
            "Enter your DBRepo password: ··········\n",
            "Training data shape: (19347, 10)\n",
            "Validation data shape: (4146, 10)\n",
            "Test data shape: (4146, 10)\n",
            "\n",
            "Using column 'originaltweet' for text and 'sentiment_category' for sentiment\n",
            "Converting sparse matrices to dense arrays...\n",
            "Dense array shapes - Train: (19347, 5000), Val: (4146, 5000), Test: (4146, 5000)\n",
            "Training model...\n",
            "Evaluating model...\n",
            "Validation Accuracy: 0.5169\n",
            "Test Accuracy: 0.5142\n",
            "\n",
            "Classification Report (Test Set):\n",
            "               precision    recall  f1-score   support\n",
            "\n",
            "     Negative       0.48      0.42      0.45      1005\n",
            "      Neutral       0.53      0.77      0.63      1661\n",
            "     Positive       0.39      0.19      0.26       700\n",
            "Very Negative       0.49      0.21      0.29       310\n",
            "Very Positive       0.60      0.48      0.53       470\n",
            "\n",
            "     accuracy                           0.51      4146\n",
            "    macro avg       0.50      0.42      0.43      4146\n",
            " weighted avg       0.50      0.51      0.49      4146\n",
            "\n",
            "Creating confusion matrix...\n",
            "Saving outputs...\n",
            "All outputs saved successfully!\n"
          ]
        }
      ],
      "source": [
        "\n",
        "import pandas as pd\n",
        "import numpy as np\n",
        "import requests\n",
        "from io import StringIO\n",
        "from sklearn.feature_extraction.text import CountVectorizer\n",
        "from sklearn.ensemble import HistGradientBoostingClassifier\n",
        "from sklearn.metrics import accuracy_score, confusion_matrix, classification_report\n",
        "import joblib\n",
        "import matplotlib.pyplot as plt\n",
        "import seaborn as sns\n",
        "import getpass\n",
        "\n",
        "\n",
        "username = \"hachembouhamidi\"\n",
        "password = getpass.getpass(\"Enter your DBRepo password: \")\n",
        "session = requests.Session()\n",
        "session.auth = (username, password)\n",
        "headers = {\n",
        "    \"Accept\": \"text/csv\"\n",
        "}\n",
        "\n",
        "\n",
        "def download_table(database_id, table_id):\n",
        "    url = f\"https://test.dbrepo.tuwien.ac.at/api/database/{database_id}/table/{table_id}/data\"\n",
        "    response = session.get(url, headers=headers)\n",
        "    if response.status_code == 200:\n",
        "        csv_content = StringIO(response.text)\n",
        "        return pd.read_csv(csv_content)\n",
        "    else:\n",
        "        raise Exception(f\"Failed to download table {table_id}: {response.status_code}\")\n",
        "\n",
        "database_id = \"147ae136-e292-4fa0-a3a8-61543690bbe4\"\n",
        "train_table_id = \"de96a523-c9ee-45c6-a81c-57fde933bee7\"\n",
        "validation_table_id = \"191f1592-f1a9-4d12-a985-77f60bf0e896\"\n",
        "test_table_id = \"6673adbc-201e-450b-a697-3297010210c1\"\n",
        "\n",
        "train_df = download_table(database_id, train_table_id)\n",
        "val_df = download_table(database_id, validation_table_id)\n",
        "test_df = download_table(database_id, test_table_id)\n",
        "\n",
        "print(f\"Training data shape: {train_df.shape}\")\n",
        "print(f\"Validation data shape: {val_df.shape}\")\n",
        "print(f\"Test data shape: {test_df.shape}\")\n",
        "\n",
        "text_column = 'originaltweet'\n",
        "target_column = 'sentiment_category'\n",
        "\n",
        "print(f\"\\nUsing column '{text_column}' for text and '{target_column}' for sentiment\")\n",
        "\n",
        "vectorizer = CountVectorizer(max_features=5000)\n",
        "X_train = vectorizer.fit_transform(train_df[text_column])\n",
        "X_val = vectorizer.transform(val_df[text_column])\n",
        "X_test = vectorizer.transform(test_df[text_column])\n",
        "\n",
        "\n",
        "print(\"Converting sparse matrices to dense arrays...\")\n",
        "X_train_dense = X_train.toarray()\n",
        "X_val_dense = X_val.toarray()\n",
        "X_test_dense = X_test.toarray()\n",
        "print(f\"Dense array shapes - Train: {X_train_dense.shape}, Val: {X_val_dense.shape}, Test: {X_test_dense.shape}\")\n",
        "\n",
        "y_train = train_df[target_column]\n",
        "y_val = val_df[target_column]\n",
        "y_test = test_df[target_column]\n",
        "\n",
        "\n",
        "print(\"Training model...\")\n",
        "model = HistGradientBoostingClassifier(random_state=42)\n",
        "model.fit(X_train_dense, y_train)\n",
        "\n",
        "\n",
        "print(\"Evaluating model...\")\n",
        "val_predictions = model.predict(X_val_dense)\n",
        "val_accuracy = accuracy_score(y_val, val_predictions)\n",
        "print(f\"Validation Accuracy: {val_accuracy:.4f}\")\n",
        "\n",
        "test_predictions = model.predict(X_test_dense)\n",
        "test_accuracy = accuracy_score(y_test, test_predictions)\n",
        "print(f\"Test Accuracy: {test_accuracy:.4f}\")\n",
        "\n",
        "print(\"\\nClassification Report (Test Set):\")\n",
        "report = classification_report(y_test, test_predictions)\n",
        "print(report)\n",
        "\n",
        "print(\"Creating confusion matrix...\")\n",
        "cm = confusion_matrix(y_test, test_predictions)\n",
        "plt.figure(figsize=(8, 6))\n",
        "sns.heatmap(cm, annot=True, fmt='d', cmap='Blues')\n",
        "plt.xlabel('Predicted')\n",
        "plt.ylabel('Actual')\n",
        "plt.title('Confusion Matrix')\n",
        "plt.savefig('confusion_matrix.png')\n",
        "plt.close()\n",
        "\n",
        "\n",
        "print(\"Saving outputs...\")\n",
        "joblib.dump(model, 'sentiment_model.joblib')\n",
        "joblib.dump(vectorizer, 'count_vectorizer.joblib')\n",
        "\n",
        "test_df['predicted_sentiment'] = test_predictions\n",
        "test_df.to_csv('test_predictions_full.csv', index=False)\n",
        "\n",
        "with open('model_performance.txt', 'w') as f:\n",
        "    f.write(f\"Validation Accuracy: {val_accuracy:.4f}\\n\")\n",
        "    f.write(f\"Test Accuracy: {test_accuracy:.4f}\\n\\n\")\n",
        "    f.write(\"Classification Report:\\n\")\n",
        "    f.write(report)\n",
        "\n",
        "print(\"All outputs saved successfully!\")"
      ]
    },
    {
      "cell_type": "code",
      "source": [
        "from google.colab import files\n",
        "files.download('sentiment_model.joblib')\n",
        "files.download('test_predictions_full.csv')\n",
        "files.download('model_performance.txt')\n",
        "files.download('confusion_matrix.png')\n",
        "files.download('count_vectorizer.joblib')\n",
        "!zip outputs.zip sentiment_model.joblib test_predictions_full.csv model_performance.txt confusion_matrix.png count_vectorizer.joblib\n",
        "files.download('outputs.zip')\n"
      ],
      "metadata": {
        "colab": {
          "base_uri": "https://localhost:8080/",
          "height": 104
        },
        "id": "GdEI1aaEfYIx",
        "outputId": "680d86b0-1982-45d9-f3ff-0ce3c9f22475"
      },
      "execution_count": null,
      "outputs": [
        {
          "output_type": "display_data",
          "data": {
            "text/plain": [
              "<IPython.core.display.Javascript object>"
            ],
            "application/javascript": [
              "\n",
              "    async function download(id, filename, size) {\n",
              "      if (!google.colab.kernel.accessAllowed) {\n",
              "        return;\n",
              "      }\n",
              "      const div = document.createElement('div');\n",
              "      const label = document.createElement('label');\n",
              "      label.textContent = `Downloading \"${filename}\": `;\n",
              "      div.appendChild(label);\n",
              "      const progress = document.createElement('progress');\n",
              "      progress.max = size;\n",
              "      div.appendChild(progress);\n",
              "      document.body.appendChild(div);\n",
              "\n",
              "      const buffers = [];\n",
              "      let downloaded = 0;\n",
              "\n",
              "      const channel = await google.colab.kernel.comms.open(id);\n",
              "      // Send a message to notify the kernel that we're ready.\n",
              "      channel.send({})\n",
              "\n",
              "      for await (const message of channel.messages) {\n",
              "        // Send a message to notify the kernel that we're ready.\n",
              "        channel.send({})\n",
              "        if (message.buffers) {\n",
              "          for (const buffer of message.buffers) {\n",
              "            buffers.push(buffer);\n",
              "            downloaded += buffer.byteLength;\n",
              "            progress.value = downloaded;\n",
              "          }\n",
              "        }\n",
              "      }\n",
              "      const blob = new Blob(buffers, {type: 'application/binary'});\n",
              "      const a = document.createElement('a');\n",
              "      a.href = window.URL.createObjectURL(blob);\n",
              "      a.download = filename;\n",
              "      div.appendChild(a);\n",
              "      a.click();\n",
              "      div.remove();\n",
              "    }\n",
              "  "
            ]
          },
          "metadata": {}
        },
        {
          "output_type": "display_data",
          "data": {
            "text/plain": [
              "<IPython.core.display.Javascript object>"
            ],
            "application/javascript": [
              "download(\"download_65ae7cf0-b51f-4764-8485-8705e8451749\", \"sentiment_model.joblib\", 2165390)"
            ]
          },
          "metadata": {}
        },
        {
          "output_type": "display_data",
          "data": {
            "text/plain": [
              "<IPython.core.display.Javascript object>"
            ],
            "application/javascript": [
              "\n",
              "    async function download(id, filename, size) {\n",
              "      if (!google.colab.kernel.accessAllowed) {\n",
              "        return;\n",
              "      }\n",
              "      const div = document.createElement('div');\n",
              "      const label = document.createElement('label');\n",
              "      label.textContent = `Downloading \"${filename}\": `;\n",
              "      div.appendChild(label);\n",
              "      const progress = document.createElement('progress');\n",
              "      progress.max = size;\n",
              "      div.appendChild(progress);\n",
              "      document.body.appendChild(div);\n",
              "\n",
              "      const buffers = [];\n",
              "      let downloaded = 0;\n",
              "\n",
              "      const channel = await google.colab.kernel.comms.open(id);\n",
              "      // Send a message to notify the kernel that we're ready.\n",
              "      channel.send({})\n",
              "\n",
              "      for await (const message of channel.messages) {\n",
              "        // Send a message to notify the kernel that we're ready.\n",
              "        channel.send({})\n",
              "        if (message.buffers) {\n",
              "          for (const buffer of message.buffers) {\n",
              "            buffers.push(buffer);\n",
              "            downloaded += buffer.byteLength;\n",
              "            progress.value = downloaded;\n",
              "          }\n",
              "        }\n",
              "      }\n",
              "      const blob = new Blob(buffers, {type: 'application/binary'});\n",
              "      const a = document.createElement('a');\n",
              "      a.href = window.URL.createObjectURL(blob);\n",
              "      a.download = filename;\n",
              "      div.appendChild(a);\n",
              "      a.click();\n",
              "      div.remove();\n",
              "    }\n",
              "  "
            ]
          },
          "metadata": {}
        },
        {
          "output_type": "display_data",
          "data": {
            "text/plain": [
              "<IPython.core.display.Javascript object>"
            ],
            "application/javascript": [
              "download(\"download_069a67be-3ad0-47cb-8efd-116183aae486\", \"test_predictions_full.csv\", 1076016)"
            ]
          },
          "metadata": {}
        },
        {
          "output_type": "display_data",
          "data": {
            "text/plain": [
              "<IPython.core.display.Javascript object>"
            ],
            "application/javascript": [
              "\n",
              "    async function download(id, filename, size) {\n",
              "      if (!google.colab.kernel.accessAllowed) {\n",
              "        return;\n",
              "      }\n",
              "      const div = document.createElement('div');\n",
              "      const label = document.createElement('label');\n",
              "      label.textContent = `Downloading \"${filename}\": `;\n",
              "      div.appendChild(label);\n",
              "      const progress = document.createElement('progress');\n",
              "      progress.max = size;\n",
              "      div.appendChild(progress);\n",
              "      document.body.appendChild(div);\n",
              "\n",
              "      const buffers = [];\n",
              "      let downloaded = 0;\n",
              "\n",
              "      const channel = await google.colab.kernel.comms.open(id);\n",
              "      // Send a message to notify the kernel that we're ready.\n",
              "      channel.send({})\n",
              "\n",
              "      for await (const message of channel.messages) {\n",
              "        // Send a message to notify the kernel that we're ready.\n",
              "        channel.send({})\n",
              "        if (message.buffers) {\n",
              "          for (const buffer of message.buffers) {\n",
              "            buffers.push(buffer);\n",
              "            downloaded += buffer.byteLength;\n",
              "            progress.value = downloaded;\n",
              "          }\n",
              "        }\n",
              "      }\n",
              "      const blob = new Blob(buffers, {type: 'application/binary'});\n",
              "      const a = document.createElement('a');\n",
              "      a.href = window.URL.createObjectURL(blob);\n",
              "      a.download = filename;\n",
              "      div.appendChild(a);\n",
              "      a.click();\n",
              "      div.remove();\n",
              "    }\n",
              "  "
            ]
          },
          "metadata": {}
        },
        {
          "output_type": "display_data",
          "data": {
            "text/plain": [
              "<IPython.core.display.Javascript object>"
            ],
            "application/javascript": [
              "download(\"download_daa21382-1093-464f-bd88-77e863754ae7\", \"model_performance.txt\", 571)"
            ]
          },
          "metadata": {}
        },
        {
          "output_type": "display_data",
          "data": {
            "text/plain": [
              "<IPython.core.display.Javascript object>"
            ],
            "application/javascript": [
              "\n",
              "    async function download(id, filename, size) {\n",
              "      if (!google.colab.kernel.accessAllowed) {\n",
              "        return;\n",
              "      }\n",
              "      const div = document.createElement('div');\n",
              "      const label = document.createElement('label');\n",
              "      label.textContent = `Downloading \"${filename}\": `;\n",
              "      div.appendChild(label);\n",
              "      const progress = document.createElement('progress');\n",
              "      progress.max = size;\n",
              "      div.appendChild(progress);\n",
              "      document.body.appendChild(div);\n",
              "\n",
              "      const buffers = [];\n",
              "      let downloaded = 0;\n",
              "\n",
              "      const channel = await google.colab.kernel.comms.open(id);\n",
              "      // Send a message to notify the kernel that we're ready.\n",
              "      channel.send({})\n",
              "\n",
              "      for await (const message of channel.messages) {\n",
              "        // Send a message to notify the kernel that we're ready.\n",
              "        channel.send({})\n",
              "        if (message.buffers) {\n",
              "          for (const buffer of message.buffers) {\n",
              "            buffers.push(buffer);\n",
              "            downloaded += buffer.byteLength;\n",
              "            progress.value = downloaded;\n",
              "          }\n",
              "        }\n",
              "      }\n",
              "      const blob = new Blob(buffers, {type: 'application/binary'});\n",
              "      const a = document.createElement('a');\n",
              "      a.href = window.URL.createObjectURL(blob);\n",
              "      a.download = filename;\n",
              "      div.appendChild(a);\n",
              "      a.click();\n",
              "      div.remove();\n",
              "    }\n",
              "  "
            ]
          },
          "metadata": {}
        },
        {
          "output_type": "display_data",
          "data": {
            "text/plain": [
              "<IPython.core.display.Javascript object>"
            ],
            "application/javascript": [
              "download(\"download_74c8070f-ce4e-4eb9-9451-6f199135c2cd\", \"confusion_matrix.png\", 29430)"
            ]
          },
          "metadata": {}
        },
        {
          "output_type": "display_data",
          "data": {
            "text/plain": [
              "<IPython.core.display.Javascript object>"
            ],
            "application/javascript": [
              "\n",
              "    async function download(id, filename, size) {\n",
              "      if (!google.colab.kernel.accessAllowed) {\n",
              "        return;\n",
              "      }\n",
              "      const div = document.createElement('div');\n",
              "      const label = document.createElement('label');\n",
              "      label.textContent = `Downloading \"${filename}\": `;\n",
              "      div.appendChild(label);\n",
              "      const progress = document.createElement('progress');\n",
              "      progress.max = size;\n",
              "      div.appendChild(progress);\n",
              "      document.body.appendChild(div);\n",
              "\n",
              "      const buffers = [];\n",
              "      let downloaded = 0;\n",
              "\n",
              "      const channel = await google.colab.kernel.comms.open(id);\n",
              "      // Send a message to notify the kernel that we're ready.\n",
              "      channel.send({})\n",
              "\n",
              "      for await (const message of channel.messages) {\n",
              "        // Send a message to notify the kernel that we're ready.\n",
              "        channel.send({})\n",
              "        if (message.buffers) {\n",
              "          for (const buffer of message.buffers) {\n",
              "            buffers.push(buffer);\n",
              "            downloaded += buffer.byteLength;\n",
              "            progress.value = downloaded;\n",
              "          }\n",
              "        }\n",
              "      }\n",
              "      const blob = new Blob(buffers, {type: 'application/binary'});\n",
              "      const a = document.createElement('a');\n",
              "      a.href = window.URL.createObjectURL(blob);\n",
              "      a.download = filename;\n",
              "      div.appendChild(a);\n",
              "      a.click();\n",
              "      div.remove();\n",
              "    }\n",
              "  "
            ]
          },
          "metadata": {}
        },
        {
          "output_type": "display_data",
          "data": {
            "text/plain": [
              "<IPython.core.display.Javascript object>"
            ],
            "application/javascript": [
              "download(\"download_ece1f2cf-1e45-4288-9c28-a6a33daa0ed0\", \"count_vectorizer.joblib\", 144584)"
            ]
          },
          "metadata": {}
        },
        {
          "output_type": "stream",
          "name": "stdout",
          "text": [
            "  adding: sentiment_model.joblib (deflated 68%)\n",
            "  adding: test_predictions_full.csv (deflated 73%)\n",
            "  adding: model_performance.txt (deflated 60%)\n",
            "  adding: confusion_matrix.png (deflated 14%)\n",
            "  adding: count_vectorizer.joblib (deflated 71%)\n"
          ]
        },
        {
          "output_type": "display_data",
          "data": {
            "text/plain": [
              "<IPython.core.display.Javascript object>"
            ],
            "application/javascript": [
              "\n",
              "    async function download(id, filename, size) {\n",
              "      if (!google.colab.kernel.accessAllowed) {\n",
              "        return;\n",
              "      }\n",
              "      const div = document.createElement('div');\n",
              "      const label = document.createElement('label');\n",
              "      label.textContent = `Downloading \"${filename}\": `;\n",
              "      div.appendChild(label);\n",
              "      const progress = document.createElement('progress');\n",
              "      progress.max = size;\n",
              "      div.appendChild(progress);\n",
              "      document.body.appendChild(div);\n",
              "\n",
              "      const buffers = [];\n",
              "      let downloaded = 0;\n",
              "\n",
              "      const channel = await google.colab.kernel.comms.open(id);\n",
              "      // Send a message to notify the kernel that we're ready.\n",
              "      channel.send({})\n",
              "\n",
              "      for await (const message of channel.messages) {\n",
              "        // Send a message to notify the kernel that we're ready.\n",
              "        channel.send({})\n",
              "        if (message.buffers) {\n",
              "          for (const buffer of message.buffers) {\n",
              "            buffers.push(buffer);\n",
              "            downloaded += buffer.byteLength;\n",
              "            progress.value = downloaded;\n",
              "          }\n",
              "        }\n",
              "      }\n",
              "      const blob = new Blob(buffers, {type: 'application/binary'});\n",
              "      const a = document.createElement('a');\n",
              "      a.href = window.URL.createObjectURL(blob);\n",
              "      a.download = filename;\n",
              "      div.appendChild(a);\n",
              "      a.click();\n",
              "      div.remove();\n",
              "    }\n",
              "  "
            ]
          },
          "metadata": {}
        },
        {
          "output_type": "display_data",
          "data": {
            "text/plain": [
              "<IPython.core.display.Javascript object>"
            ],
            "application/javascript": [
              "download(\"download_f7e68a43-2a7e-4460-9c47-ec9108ff0db0\", \"outputs.zip\", 1038975)"
            ]
          },
          "metadata": {}
        }
      ]
    }
  ]
}